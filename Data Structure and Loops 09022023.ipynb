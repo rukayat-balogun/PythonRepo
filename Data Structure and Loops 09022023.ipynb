{
 "cells": [
  {
   "cell_type": "code",
   "execution_count": 1,
   "id": "3a881b34",
   "metadata": {},
   "outputs": [],
   "source": [
    "name = \"Python\""
   ]
  },
  {
   "cell_type": "code",
   "execution_count": 3,
   "id": "409646cc",
   "metadata": {},
   "outputs": [],
   "source": [
    "names = 'Python', 'R', 'C','Java', 'Ruby'"
   ]
  },
  {
   "cell_type": "code",
   "execution_count": 4,
   "id": "6707311e",
   "metadata": {},
   "outputs": [
    {
     "data": {
      "text/plain": [
       "('Python', 'R', 'C', 'Java', 'Ruby')"
      ]
     },
     "execution_count": 4,
     "metadata": {},
     "output_type": "execute_result"
    }
   ],
   "source": [
    "names"
   ]
  },
  {
   "cell_type": "code",
   "execution_count": 5,
   "id": "7f2582c6",
   "metadata": {},
   "outputs": [
    {
     "data": {
      "text/plain": [
       "tuple"
      ]
     },
     "execution_count": 5,
     "metadata": {},
     "output_type": "execute_result"
    }
   ],
   "source": [
    "type(names)"
   ]
  },
  {
   "cell_type": "code",
   "execution_count": 6,
   "id": "437d5828",
   "metadata": {},
   "outputs": [],
   "source": [
    "#List\n",
    "\n",
    "names = [] #an empty list\n",
    "names = list()"
   ]
  },
  {
   "cell_type": "code",
   "execution_count": 7,
   "id": "fb044c71",
   "metadata": {},
   "outputs": [],
   "source": [
    "names = ['Python', 'R', 'C','Java', 'Ruby'] #we can also create a list of other data types like int, float, boolean, date, list"
   ]
  },
  {
   "cell_type": "code",
   "execution_count": 8,
   "id": "27048c0a",
   "metadata": {},
   "outputs": [
    {
     "data": {
      "text/plain": [
       "['Python', 'R', 'C', 'Java', 'Ruby']"
      ]
     },
     "execution_count": 8,
     "metadata": {},
     "output_type": "execute_result"
    }
   ],
   "source": [
    "names"
   ]
  },
  {
   "cell_type": "code",
   "execution_count": 9,
   "id": "88c98fea",
   "metadata": {},
   "outputs": [
    {
     "data": {
      "text/plain": [
       "list"
      ]
     },
     "execution_count": 9,
     "metadata": {},
     "output_type": "execute_result"
    }
   ],
   "source": [
    "type(names)"
   ]
  },
  {
   "cell_type": "code",
   "execution_count": 10,
   "id": "2cdcfa7d",
   "metadata": {},
   "outputs": [],
   "source": [
    "randItems = [1,2,3,4,'Name', 'City', True, False, None]"
   ]
  },
  {
   "cell_type": "code",
   "execution_count": 11,
   "id": "4a221493",
   "metadata": {},
   "outputs": [],
   "source": [
    "#list methods\n",
    "\n",
    "list1 = [1,2,3,4,5]\n",
    "list2 = [6,7,8,9,0]\n",
    "list1.extend(list2) #JOINS A LIST TO ANOTHER LIST"
   ]
  },
  {
   "cell_type": "code",
   "execution_count": 12,
   "id": "8a65f8d3",
   "metadata": {},
   "outputs": [
    {
     "data": {
      "text/plain": [
       "[1, 2, 3, 4, 5, 6, 7, 8, 9, 0]"
      ]
     },
     "execution_count": 12,
     "metadata": {},
     "output_type": "execute_result"
    }
   ],
   "source": [
    "list1"
   ]
  },
  {
   "cell_type": "code",
   "execution_count": 13,
   "id": "ae6bea14",
   "metadata": {},
   "outputs": [],
   "source": [
    "list1.append(11) #ADDS VALUE TO THE LAST POSITION IN A LIST"
   ]
  },
  {
   "cell_type": "code",
   "execution_count": 14,
   "id": "9198acf2",
   "metadata": {},
   "outputs": [
    {
     "data": {
      "text/plain": [
       "[1, 2, 3, 4, 5, 6, 7, 8, 9, 0, 11]"
      ]
     },
     "execution_count": 14,
     "metadata": {},
     "output_type": "execute_result"
    }
   ],
   "source": [
    "list1"
   ]
  },
  {
   "cell_type": "code",
   "execution_count": 15,
   "id": "dbbe3a19",
   "metadata": {},
   "outputs": [],
   "source": [
    "names = set(['Python', 'R', 'C','Java', 'Ruby'])\n",
    "name2 = {'Python', 'R', 'C','Java', 'Ruby'}"
   ]
  },
  {
   "cell_type": "code",
   "execution_count": 16,
   "id": "566ab022",
   "metadata": {},
   "outputs": [
    {
     "data": {
      "text/plain": [
       "set"
      ]
     },
     "execution_count": 16,
     "metadata": {},
     "output_type": "execute_result"
    }
   ],
   "source": [
    "type(names)"
   ]
  },
  {
   "cell_type": "code",
   "execution_count": 17,
   "id": "b5d810d8",
   "metadata": {},
   "outputs": [
    {
     "data": {
      "text/plain": [
       "set"
      ]
     },
     "execution_count": 17,
     "metadata": {},
     "output_type": "execute_result"
    }
   ],
   "source": [
    "type(name2)"
   ]
  },
  {
   "cell_type": "code",
   "execution_count": 19,
   "id": "5d3faaef",
   "metadata": {},
   "outputs": [],
   "source": [
    "list1 = set([1,2,3,4,5])\n",
    "list2 = set([6,7,8,9,0])\n",
    "list3 = list1.union(list2)"
   ]
  },
  {
   "cell_type": "code",
   "execution_count": 20,
   "id": "af0aa048",
   "metadata": {},
   "outputs": [
    {
     "data": {
      "text/plain": [
       "{0, 1, 2, 3, 4, 5, 6, 7, 8, 9}"
      ]
     },
     "execution_count": 20,
     "metadata": {},
     "output_type": "execute_result"
    }
   ],
   "source": [
    "list3"
   ]
  },
  {
   "cell_type": "code",
   "execution_count": 21,
   "id": "e5d4ba54",
   "metadata": {},
   "outputs": [
    {
     "data": {
      "text/plain": [
       "{'name': 'Python', 'simplicity': False, 'multiPurpose': 1}"
      ]
     },
     "execution_count": 21,
     "metadata": {},
     "output_type": "execute_result"
    }
   ],
   "source": [
    "dictItem = {'name': 'Python', 'simplicity':False, 'multiPurpose':1}\n",
    "dictItem"
   ]
  },
  {
   "cell_type": "code",
   "execution_count": 22,
   "id": "32c0f866",
   "metadata": {},
   "outputs": [
    {
     "data": {
      "text/plain": [
       "dict_keys(['name', 'simplicity', 'multiPurpose'])"
      ]
     },
     "execution_count": 22,
     "metadata": {},
     "output_type": "execute_result"
    }
   ],
   "source": [
    "dictItem.keys()"
   ]
  },
  {
   "cell_type": "code",
   "execution_count": 23,
   "id": "92f2ac0c",
   "metadata": {},
   "outputs": [
    {
     "data": {
      "text/plain": [
       "dict_values(['Python', False, 1])"
      ]
     },
     "execution_count": 23,
     "metadata": {},
     "output_type": "execute_result"
    }
   ],
   "source": [
    "dictItem.values()"
   ]
  },
  {
   "cell_type": "code",
   "execution_count": 24,
   "id": "21f87749",
   "metadata": {},
   "outputs": [
    {
     "data": {
      "text/plain": [
       "(2, 3)"
      ]
     },
     "execution_count": 24,
     "metadata": {},
     "output_type": "execute_result"
    }
   ],
   "source": [
    "tuple1 = ()\n",
    "tup = (2,3)\n",
    "tup"
   ]
  },
  {
   "cell_type": "code",
   "execution_count": 26,
   "id": "ca3958ed",
   "metadata": {},
   "outputs": [
    {
     "data": {
      "text/plain": [
       "tuple"
      ]
     },
     "execution_count": 26,
     "metadata": {},
     "output_type": "execute_result"
    }
   ],
   "source": [
    "type(tup)"
   ]
  },
  {
   "cell_type": "code",
   "execution_count": 27,
   "id": "7a3df99a",
   "metadata": {},
   "outputs": [],
   "source": [
    "names = ['Python', 'R', 'C','Java', 'Ruby'] #list of programming languages "
   ]
  },
  {
   "cell_type": "code",
   "execution_count": 31,
   "id": "ead7272d",
   "metadata": {},
   "outputs": [
    {
     "name": "stdout",
     "output_type": "stream",
     "text": [
      "Python\n",
      "R\n",
      "C\n",
      "J$v$\n",
      "Ruby\n"
     ]
    }
   ],
   "source": [
    "for name in names:\n",
    "    print(name.replace('a','$'))"
   ]
  },
  {
   "cell_type": "code",
   "execution_count": 34,
   "id": "63c49d83",
   "metadata": {},
   "outputs": [
    {
     "name": "stdout",
     "output_type": "stream",
     "text": [
      "Python\n",
      "R\n"
     ]
    }
   ],
   "source": [
    "for name in names:\n",
    "    if name == 'C':\n",
    "        break\n",
    "    print(name)"
   ]
  },
  {
   "cell_type": "code",
   "execution_count": 35,
   "id": "eb759cea",
   "metadata": {},
   "outputs": [
    {
     "name": "stdout",
     "output_type": "stream",
     "text": [
      "Python\n",
      "R\n",
      "Java\n",
      "Ruby\n"
     ]
    }
   ],
   "source": [
    "for name in names:\n",
    "    if name == 'C':\n",
    "        continue\n",
    "    print(name)"
   ]
  },
  {
   "cell_type": "code",
   "execution_count": 39,
   "id": "9ef385bb",
   "metadata": {},
   "outputs": [
    {
     "name": "stdout",
     "output_type": "stream",
     "text": [
      "0\n",
      "1\n",
      "2\n",
      "3\n",
      "4\n",
      "5\n",
      "6\n",
      "7\n",
      "8\n",
      "9\n"
     ]
    }
   ],
   "source": [
    "counter = 0\n",
    "\n",
    "while counter < 10:\n",
    "    print(counter)\n",
    "    counter += 1 #counter + 1"
   ]
  },
  {
   "cell_type": "code",
   "execution_count": null,
   "id": "63ca3f9b",
   "metadata": {},
   "outputs": [],
   "source": []
  }
 ],
 "metadata": {
  "kernelspec": {
   "display_name": "Python 3 (ipykernel)",
   "language": "python",
   "name": "python3"
  },
  "language_info": {
   "codemirror_mode": {
    "name": "ipython",
    "version": 3
   },
   "file_extension": ".py",
   "mimetype": "text/x-python",
   "name": "python",
   "nbconvert_exporter": "python",
   "pygments_lexer": "ipython3",
   "version": "3.9.13"
  }
 },
 "nbformat": 4,
 "nbformat_minor": 5
}
