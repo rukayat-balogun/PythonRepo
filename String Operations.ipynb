{
 "cells": [
  {
   "cell_type": "markdown",
   "id": "cc6f8f47",
   "metadata": {},
   "source": [
    "### String Methods"
   ]
  },
  {
   "cell_type": "code",
   "execution_count": 3,
   "id": "ce9a902d",
   "metadata": {},
   "outputs": [],
   "source": [
    "name = 'this is a simple sentence'"
   ]
  },
  {
   "cell_type": "code",
   "execution_count": 4,
   "id": "ed883c1e",
   "metadata": {},
   "outputs": [
    {
     "data": {
      "text/plain": [
       "'This is a simple sentence'"
      ]
     },
     "execution_count": 4,
     "metadata": {},
     "output_type": "execute_result"
    }
   ],
   "source": [
    "name.capitalize() #it capitalizes the first letter only"
   ]
  },
  {
   "cell_type": "code",
   "execution_count": 5,
   "id": "9f4b920f",
   "metadata": {},
   "outputs": [
    {
     "data": {
      "text/plain": [
       "'This Is A Simple Sentence'"
      ]
     },
     "execution_count": 5,
     "metadata": {},
     "output_type": "execute_result"
    }
   ],
   "source": [
    "name.title() #capitalizes the first letter of each word"
   ]
  },
  {
   "cell_type": "code",
   "execution_count": 6,
   "id": "b697720b",
   "metadata": {},
   "outputs": [
    {
     "data": {
      "text/plain": [
       "['th', 's ', 's a s', 'mple sentence']"
      ]
     },
     "execution_count": 6,
     "metadata": {},
     "output_type": "execute_result"
    }
   ],
   "source": [
    "name.split('i') #it splits the character/sentence by the symbol or character specified"
   ]
  },
  {
   "cell_type": "code",
   "execution_count": 7,
   "id": "c5d29bde",
   "metadata": {},
   "outputs": [
    {
     "data": {
      "text/plain": [
       "['this', 'is', 'a', 'simple', 'sentence']"
      ]
     },
     "execution_count": 7,
     "metadata": {},
     "output_type": "execute_result"
    }
   ],
   "source": [
    "name.split(' ') "
   ]
  },
  {
   "cell_type": "code",
   "execution_count": 8,
   "id": "7e4cb005",
   "metadata": {},
   "outputs": [
    {
     "data": {
      "text/plain": [
       "'thi$ i$ a $imple $entence'"
      ]
     },
     "execution_count": 8,
     "metadata": {},
     "output_type": "execute_result"
    }
   ],
   "source": [
    "name.replace('s', '$') #replaces the old character by the newly specified"
   ]
  },
  {
   "cell_type": "code",
   "execution_count": 10,
   "id": "373c13b2",
   "metadata": {},
   "outputs": [
    {
     "data": {
      "text/plain": [
       "'THIS IS A SIMPLE SENTENCE'"
      ]
     },
     "execution_count": 10,
     "metadata": {},
     "output_type": "execute_result"
    }
   ],
   "source": [
    "name.upper() #changes all the characters to upper case"
   ]
  },
  {
   "cell_type": "code",
   "execution_count": 11,
   "id": "b88ed769",
   "metadata": {},
   "outputs": [
    {
     "data": {
      "text/plain": [
       "'this is a simple sentence'"
      ]
     },
     "execution_count": 11,
     "metadata": {},
     "output_type": "execute_result"
    }
   ],
   "source": [
    "name.lower() #changes all the characters to lower case"
   ]
  },
  {
   "cell_type": "code",
   "execution_count": 13,
   "id": "6aed7371",
   "metadata": {},
   "outputs": [
    {
     "data": {
      "text/plain": [
       "2"
      ]
     },
     "execution_count": 13,
     "metadata": {},
     "output_type": "execute_result"
    }
   ],
   "source": [
    "name.find('i') #returns the position of the letter i in the sentence"
   ]
  },
  {
   "cell_type": "code",
   "execution_count": 14,
   "id": "2a703cfa",
   "metadata": {},
   "outputs": [
    {
     "data": {
      "text/plain": [
       "'t*h*i*s* *i*s* *a* *s*i*m*p*l*e* *s*e*n*t*e*n*c*e'"
      ]
     },
     "execution_count": 14,
     "metadata": {},
     "output_type": "execute_result"
    }
   ],
   "source": [
    "'*'.join(name) #join each character(letter) to the specified character"
   ]
  },
  {
   "cell_type": "code",
   "execution_count": 16,
   "id": "eb84adf1",
   "metadata": {},
   "outputs": [
    {
     "data": {
      "text/plain": [
       "False"
      ]
     },
     "execution_count": 16,
     "metadata": {},
     "output_type": "execute_result"
    }
   ],
   "source": [
    "name.startswith('This') #returns true if the character/sentence starts with the specified character"
   ]
  },
  {
   "cell_type": "code",
   "execution_count": 18,
   "id": "fd8f4fb5",
   "metadata": {},
   "outputs": [
    {
     "data": {
      "text/plain": [
       "False"
      ]
     },
     "execution_count": 18,
     "metadata": {},
     "output_type": "execute_result"
    }
   ],
   "source": [
    "name.endswith('3') #returns true if the character/sentence ends with the specified character"
   ]
  },
  {
   "cell_type": "markdown",
   "id": "8c98d0f3",
   "metadata": {},
   "source": [
    "### String Formats"
   ]
  },
  {
   "cell_type": "code",
   "execution_count": 19,
   "id": "809d468e",
   "metadata": {},
   "outputs": [],
   "source": [
    "fname = 'Will'\n",
    "lname = 'Smith'\n"
   ]
  },
  {
   "cell_type": "code",
   "execution_count": 21,
   "id": "f15b386a",
   "metadata": {},
   "outputs": [
    {
     "data": {
      "text/plain": [
       "'Will Smith'"
      ]
     },
     "execution_count": 21,
     "metadata": {},
     "output_type": "execute_result"
    }
   ],
   "source": [
    "#method 1 (+)\n",
    "\n",
    "fullname = fname +' '+lname\n",
    "fullname"
   ]
  },
  {
   "cell_type": "code",
   "execution_count": 28,
   "id": "18ee91ec",
   "metadata": {},
   "outputs": [],
   "source": [
    "#Method 2\n",
    "fullname = 'My name is {} {}'.format(fname, lname) \n"
   ]
  },
  {
   "cell_type": "code",
   "execution_count": 26,
   "id": "50884602",
   "metadata": {},
   "outputs": [
    {
     "data": {
      "text/plain": [
       "'My name is Will Smith'"
      ]
     },
     "execution_count": 26,
     "metadata": {},
     "output_type": "execute_result"
    }
   ],
   "source": [
    "fullname"
   ]
  },
  {
   "cell_type": "code",
   "execution_count": 31,
   "id": "411386dc",
   "metadata": {},
   "outputs": [
    {
     "data": {
      "text/plain": [
       "'My name is Will Will'"
      ]
     },
     "execution_count": 31,
     "metadata": {},
     "output_type": "execute_result"
    }
   ],
   "source": [
    "#Method 3\n",
    "fullname = 'My name is {0} {0}'.format(fname, lname) \n",
    "fullname"
   ]
  },
  {
   "cell_type": "code",
   "execution_count": null,
   "id": "e274e968",
   "metadata": {},
   "outputs": [],
   "source": []
  },
  {
   "cell_type": "code",
   "execution_count": 33,
   "id": "a94326ee",
   "metadata": {},
   "outputs": [
    {
     "data": {
      "text/plain": [
       "'My name is Rukayat Balogun'"
      ]
     },
     "execution_count": 33,
     "metadata": {},
     "output_type": "execute_result"
    }
   ],
   "source": [
    "#Method 4\n",
    "fullname = 'My name is {firstname} {lastname}'.format(firstname='Rukayat', lastname='Balogun') \n",
    "fullname"
   ]
  },
  {
   "cell_type": "code",
   "execution_count": 65,
   "id": "9db6d82d",
   "metadata": {},
   "outputs": [
    {
     "data": {
      "text/plain": [
       "'Will Smith'"
      ]
     },
     "execution_count": 65,
     "metadata": {},
     "output_type": "execute_result"
    }
   ],
   "source": [
    "#Method 5\n",
    "\n",
    "f'{fname} {lname}'"
   ]
  },
  {
   "cell_type": "markdown",
   "id": "fb73dbeb",
   "metadata": {},
   "source": [
    "### String Operations"
   ]
  },
  {
   "cell_type": "code",
   "execution_count": 64,
   "id": "678e8e12",
   "metadata": {},
   "outputs": [
    {
     "data": {
      "text/plain": [
       "'Will Smith'"
      ]
     },
     "execution_count": 64,
     "metadata": {},
     "output_type": "execute_result"
    }
   ],
   "source": [
    "fname = 'Will'\n",
    "lname = 'Smith'\n",
    "\n"
   ]
  },
  {
   "cell_type": "code",
   "execution_count": 35,
   "id": "95d409d2",
   "metadata": {},
   "outputs": [],
   "source": [
    "names = []"
   ]
  },
  {
   "cell_type": "code",
   "execution_count": 36,
   "id": "2aaa4772",
   "metadata": {},
   "outputs": [],
   "source": [
    "names.append(fname)"
   ]
  },
  {
   "cell_type": "code",
   "execution_count": 37,
   "id": "803f7907",
   "metadata": {},
   "outputs": [
    {
     "data": {
      "text/plain": [
       "['Will']"
      ]
     },
     "execution_count": 37,
     "metadata": {},
     "output_type": "execute_result"
    }
   ],
   "source": [
    "names"
   ]
  },
  {
   "cell_type": "code",
   "execution_count": 38,
   "id": "8aefc3fe",
   "metadata": {},
   "outputs": [],
   "source": [
    "names.append(lname)"
   ]
  },
  {
   "cell_type": "code",
   "execution_count": 39,
   "id": "34bb0a48",
   "metadata": {},
   "outputs": [
    {
     "data": {
      "text/plain": [
       "['Will', 'Smith']"
      ]
     },
     "execution_count": 39,
     "metadata": {},
     "output_type": "execute_result"
    }
   ],
   "source": [
    "names"
   ]
  },
  {
   "cell_type": "code",
   "execution_count": 40,
   "id": "75ae87db",
   "metadata": {},
   "outputs": [],
   "source": [
    "listA = [0,2,4,6,8,10]\n",
    "listB = [1,3,5,7,9]\n",
    "listA.extend(listB)"
   ]
  },
  {
   "cell_type": "code",
   "execution_count": 41,
   "id": "e00f3eab",
   "metadata": {},
   "outputs": [
    {
     "data": {
      "text/plain": [
       "[0, 2, 4, 6, 8, 10, 1, 3, 5, 7, 9]"
      ]
     },
     "execution_count": 41,
     "metadata": {},
     "output_type": "execute_result"
    }
   ],
   "source": [
    "listA"
   ]
  },
  {
   "cell_type": "code",
   "execution_count": 42,
   "id": "dafffc34",
   "metadata": {},
   "outputs": [],
   "source": [
    "listA.sort()"
   ]
  },
  {
   "cell_type": "code",
   "execution_count": 43,
   "id": "2ec67962",
   "metadata": {},
   "outputs": [
    {
     "data": {
      "text/plain": [
       "[0, 1, 2, 3, 4, 5, 6, 7, 8, 9, 10]"
      ]
     },
     "execution_count": 43,
     "metadata": {},
     "output_type": "execute_result"
    }
   ],
   "source": [
    "listA"
   ]
  },
  {
   "cell_type": "code",
   "execution_count": 48,
   "id": "b2983f96",
   "metadata": {},
   "outputs": [],
   "source": [
    "listA.sort(reverse=True)"
   ]
  },
  {
   "cell_type": "code",
   "execution_count": 49,
   "id": "21edd099",
   "metadata": {},
   "outputs": [
    {
     "data": {
      "text/plain": [
       "[10, 9, 8, 7, 6, 5, 4, 3, 2, 1, 0]"
      ]
     },
     "execution_count": 49,
     "metadata": {},
     "output_type": "execute_result"
    }
   ],
   "source": [
    "listA"
   ]
  },
  {
   "cell_type": "code",
   "execution_count": 51,
   "id": "e3750101",
   "metadata": {},
   "outputs": [
    {
     "data": {
      "text/plain": [
       "[10, 9, 8, 7, 6, 5, 4, 3, 2, 1, 0]"
      ]
     },
     "execution_count": 51,
     "metadata": {},
     "output_type": "execute_result"
    }
   ],
   "source": [
    "sorted(listA, reverse=True) "
   ]
  },
  {
   "cell_type": "code",
   "execution_count": 52,
   "id": "f023aa42",
   "metadata": {},
   "outputs": [
    {
     "data": {
      "text/plain": [
       "[1, 3, 5, 7, 9]"
      ]
     },
     "execution_count": 52,
     "metadata": {},
     "output_type": "execute_result"
    }
   ],
   "source": [
    "listB"
   ]
  },
  {
   "cell_type": "code",
   "execution_count": 54,
   "id": "fd8a3123",
   "metadata": {},
   "outputs": [],
   "source": [
    "listB.insert(0, 0)"
   ]
  },
  {
   "cell_type": "code",
   "execution_count": 55,
   "id": "461fc0b6",
   "metadata": {},
   "outputs": [
    {
     "data": {
      "text/plain": [
       "[0, 1, 3, 5, 7, 9]"
      ]
     },
     "execution_count": 55,
     "metadata": {},
     "output_type": "execute_result"
    }
   ],
   "source": [
    "listB"
   ]
  },
  {
   "cell_type": "code",
   "execution_count": 56,
   "id": "8012fe12",
   "metadata": {},
   "outputs": [],
   "source": [
    "listB.insert(2, 2)"
   ]
  },
  {
   "cell_type": "code",
   "execution_count": 57,
   "id": "4b6a45b6",
   "metadata": {},
   "outputs": [
    {
     "data": {
      "text/plain": [
       "[0, 1, 2, 3, 5, 7, 9]"
      ]
     },
     "execution_count": 57,
     "metadata": {},
     "output_type": "execute_result"
    }
   ],
   "source": [
    "listB"
   ]
  },
  {
   "cell_type": "code",
   "execution_count": 58,
   "id": "625f75da",
   "metadata": {},
   "outputs": [],
   "source": [
    "listB.insert(3, 4)"
   ]
  },
  {
   "cell_type": "code",
   "execution_count": 59,
   "id": "8f539031",
   "metadata": {},
   "outputs": [
    {
     "data": {
      "text/plain": [
       "[0, 1, 2, 4, 3, 5, 7, 9]"
      ]
     },
     "execution_count": 59,
     "metadata": {},
     "output_type": "execute_result"
    }
   ],
   "source": [
    "listB"
   ]
  },
  {
   "cell_type": "code",
   "execution_count": 60,
   "id": "ef9485db",
   "metadata": {},
   "outputs": [
    {
     "data": {
      "text/plain": [
       "9"
      ]
     },
     "execution_count": 60,
     "metadata": {},
     "output_type": "execute_result"
    }
   ],
   "source": [
    "listB.pop()"
   ]
  },
  {
   "cell_type": "code",
   "execution_count": 61,
   "id": "6488b7fa",
   "metadata": {},
   "outputs": [
    {
     "data": {
      "text/plain": [
       "[0, 1, 2, 4, 3, 5, 7]"
      ]
     },
     "execution_count": 61,
     "metadata": {},
     "output_type": "execute_result"
    }
   ],
   "source": [
    "listB"
   ]
  },
  {
   "cell_type": "code",
   "execution_count": 62,
   "id": "c3aa08b7",
   "metadata": {},
   "outputs": [],
   "source": [
    "fruits = ['Apple', 'Banana', 'Orange']"
   ]
  },
  {
   "cell_type": "code",
   "execution_count": 63,
   "id": "5abffec5",
   "metadata": {},
   "outputs": [
    {
     "data": {
      "text/plain": [
       "['Apple', 'Banana', 'Orange']"
      ]
     },
     "execution_count": 63,
     "metadata": {},
     "output_type": "execute_result"
    }
   ],
   "source": [
    "fruits"
   ]
  },
  {
   "cell_type": "code",
   "execution_count": null,
   "id": "2c61ff24",
   "metadata": {},
   "outputs": [],
   "source": []
  }
 ],
 "metadata": {
  "kernelspec": {
   "display_name": "Python 3",
   "language": "python",
   "name": "python3"
  },
  "language_info": {
   "codemirror_mode": {
    "name": "ipython",
    "version": 3
   },
   "file_extension": ".py",
   "mimetype": "text/x-python",
   "name": "python",
   "nbconvert_exporter": "python",
   "pygments_lexer": "ipython3",
   "version": "3.8.8"
  }
 },
 "nbformat": 4,
 "nbformat_minor": 5
}
