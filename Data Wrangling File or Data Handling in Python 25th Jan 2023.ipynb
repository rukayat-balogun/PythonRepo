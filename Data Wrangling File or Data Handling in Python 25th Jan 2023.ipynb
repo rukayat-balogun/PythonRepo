{
 "cells": [
  {
   "cell_type": "markdown",
   "id": "32ebbfa9",
   "metadata": {},
   "source": [
    "### Write to a new file"
   ]
  },
  {
   "cell_type": "code",
   "execution_count": 8,
   "id": "58543c6f",
   "metadata": {},
   "outputs": [],
   "source": [
    "f = open('new.txt', 'w') #w means I want to create a new file or overwrite an existing file with that name\n",
    "f.write('Pairview is a wonderful place be \\n')\n",
    "f.close()"
   ]
  },
  {
   "cell_type": "markdown",
   "id": "b8dd3c78",
   "metadata": {},
   "source": [
    "Or "
   ]
  },
  {
   "cell_type": "code",
   "execution_count": 11,
   "id": "d148a0c2",
   "metadata": {},
   "outputs": [
    {
     "ename": "FileExistsError",
     "evalue": "[Errno 17] File exists: 'new.txt'",
     "output_type": "error",
     "traceback": [
      "\u001b[1;31m---------------------------------------------------------------------------\u001b[0m",
      "\u001b[1;31mFileExistsError\u001b[0m                           Traceback (most recent call last)",
      "\u001b[1;32m~\\AppData\\Local\\Temp\\ipykernel_10484\\4042185146.py\u001b[0m in \u001b[0;36m<module>\u001b[1;34m\u001b[0m\n\u001b[1;32m----> 1\u001b[1;33m \u001b[0mf\u001b[0m \u001b[1;33m=\u001b[0m \u001b[0mopen\u001b[0m\u001b[1;33m(\u001b[0m\u001b[1;34m'new.txt'\u001b[0m\u001b[1;33m,\u001b[0m \u001b[1;34m'x'\u001b[0m\u001b[1;33m)\u001b[0m \u001b[1;31m#x means I want to create a new file and if the filename exists I want python to throw an error\u001b[0m\u001b[1;33m\u001b[0m\u001b[1;33m\u001b[0m\u001b[0m\n\u001b[0m\u001b[0;32m      2\u001b[0m \u001b[0mf\u001b[0m\u001b[1;33m.\u001b[0m\u001b[0mwrite\u001b[0m\u001b[1;33m(\u001b[0m\u001b[1;34m'Pairview is a wonderful place be \\n'\u001b[0m\u001b[1;33m)\u001b[0m\u001b[1;33m\u001b[0m\u001b[1;33m\u001b[0m\u001b[0m\n\u001b[0;32m      3\u001b[0m \u001b[0mf\u001b[0m\u001b[1;33m.\u001b[0m\u001b[0mclose\u001b[0m\u001b[1;33m(\u001b[0m\u001b[1;33m)\u001b[0m\u001b[1;33m\u001b[0m\u001b[1;33m\u001b[0m\u001b[0m\n",
      "\u001b[1;31mFileExistsError\u001b[0m: [Errno 17] File exists: 'new.txt'"
     ]
    }
   ],
   "source": [
    "f = open('new.txt', 'x') #x means I want to create a new file and if the filename exists I want python to throw an error\n",
    "f.write('Pairview is a wonderful place be \\n')\n",
    "f.close()"
   ]
  },
  {
   "cell_type": "markdown",
   "id": "6991d4ea",
   "metadata": {},
   "source": [
    "### Write to an existing file"
   ]
  },
  {
   "cell_type": "code",
   "execution_count": 9,
   "id": "f10c5ea5",
   "metadata": {},
   "outputs": [],
   "source": [
    "f = open('new.txt', 'a') #mode a means I want to append a existing or new file\n",
    "f.write('Python is fun \\n')\n",
    "f.close()"
   ]
  },
  {
   "cell_type": "code",
   "execution_count": 10,
   "id": "343efb69",
   "metadata": {},
   "outputs": [],
   "source": [
    "f = open('new.txt', 'a') #mode a means I want to append a existing or new file\n",
    "f.write('Data is live \\n')\n",
    "f.close()"
   ]
  },
  {
   "cell_type": "markdown",
   "id": "45b2603d",
   "metadata": {},
   "source": [
    "### Read from a file"
   ]
  },
  {
   "cell_type": "code",
   "execution_count": 15,
   "id": "ae13762b",
   "metadata": {},
   "outputs": [
    {
     "name": "stdout",
     "output_type": "stream",
     "text": [
      "Pairview is a wonderful place be \n",
      "\n"
     ]
    }
   ],
   "source": [
    "f = open('new.txt', 'r') #mode r means I want to put the file in a read mode \n",
    "print(f.readline())  #returns the first line in the file \n",
    "f.close()\n"
   ]
  },
  {
   "cell_type": "code",
   "execution_count": 16,
   "id": "91de3066",
   "metadata": {},
   "outputs": [
    {
     "name": "stdout",
     "output_type": "stream",
     "text": [
      "['Pairview is a wonderful place be \\n', 'Python is fun \\n', 'Data is live \\n']\n"
     ]
    }
   ],
   "source": [
    "\n",
    "f = open('new.txt', 'r') #mode r means I want to put the file in a read mode \n",
    "print(f.readlines())  #returns the all lines in a list \n",
    "f.close()"
   ]
  },
  {
   "cell_type": "markdown",
   "id": "b395d93b",
   "metadata": {},
   "source": [
    "## Method 2"
   ]
  },
  {
   "cell_type": "code",
   "execution_count": 17,
   "id": "c8a8eed3",
   "metadata": {},
   "outputs": [],
   "source": [
    "with open('new.txt2', 'w') as f:\n",
    "    f.write('Yaay, its Wednesday')"
   ]
  },
  {
   "cell_type": "code",
   "execution_count": 18,
   "id": "2a84746f",
   "metadata": {},
   "outputs": [
    {
     "name": "stdout",
     "output_type": "stream",
     "text": [
      "Yaay, its Wednesday\n"
     ]
    }
   ],
   "source": [
    "with open('new.txt2', 'r') as f:\n",
    "    print(f.readline())"
   ]
  },
  {
   "cell_type": "code",
   "execution_count": null,
   "id": "c74a9d92",
   "metadata": {},
   "outputs": [],
   "source": []
  }
 ],
 "metadata": {
  "kernelspec": {
   "display_name": "Python 3 (ipykernel)",
   "language": "python",
   "name": "python3"
  },
  "language_info": {
   "codemirror_mode": {
    "name": "ipython",
    "version": 3
   },
   "file_extension": ".py",
   "mimetype": "text/x-python",
   "name": "python",
   "nbconvert_exporter": "python",
   "pygments_lexer": "ipython3",
   "version": "3.9.13"
  }
 },
 "nbformat": 4,
 "nbformat_minor": 5
}
