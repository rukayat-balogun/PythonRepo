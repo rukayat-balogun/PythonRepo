{
 "cells": [
  {
   "cell_type": "markdown",
   "id": "68b1652a",
   "metadata": {},
   "source": [
    "## DATA STRUCTURES\n",
    "\n",
    "### BUILT-IN  DATA STRUCTURES\n",
    "1. LIST\n",
    "2. SET\n",
    "3. TUPLE\n",
    "4. DICTIONARY\n",
    "5. FROZENSET\n",
    "\n",
    "\n",
    "### USER-DEFINED DATA STRUCTURES\n",
    "1. STACK\n",
    "2. TREE\n",
    "3. QUEUE\n",
    "4. LINKED LIST\n",
    "5. GRAPH\n",
    "6. HASHMAP\n"
   ]
  },
  {
   "cell_type": "markdown",
   "id": "420b6578",
   "metadata": {},
   "source": [
    "### LIST\n",
    "Lists are used to store data of different data types in a sequential manner e.g string('Python'), integer(3), boolean(True or False), datetime, float(3.0)"
   ]
  },
  {
   "cell_type": "markdown",
   "id": "03a7e420",
   "metadata": {},
   "source": [
    "### Empty List\n",
    "1. list1 = [] #square bracket\n",
    "2. list2 = list() #parenthesis"
   ]
  },
  {
   "cell_type": "code",
   "execution_count": 1,
   "id": "90421306",
   "metadata": {},
   "outputs": [],
   "source": [
    "list1 = []\n"
   ]
  },
  {
   "cell_type": "code",
   "execution_count": 2,
   "id": "599deb8f",
   "metadata": {},
   "outputs": [
    {
     "data": {
      "text/plain": [
       "list"
      ]
     },
     "execution_count": 2,
     "metadata": {},
     "output_type": "execute_result"
    }
   ],
   "source": [
    "type(list1)"
   ]
  },
  {
   "cell_type": "code",
   "execution_count": 4,
   "id": "a8ef8b0e",
   "metadata": {},
   "outputs": [
    {
     "data": {
      "text/plain": [
       "list"
      ]
     },
     "execution_count": 4,
     "metadata": {},
     "output_type": "execute_result"
    }
   ],
   "source": [
    "list2 = list()\n",
    "type(list2)"
   ]
  },
  {
   "cell_type": "code",
   "execution_count": 6,
   "id": "2ea24811",
   "metadata": {},
   "outputs": [],
   "source": [
    "### List of Values\n",
    "list3 = ['apple', 'orange', 'banana']"
   ]
  },
  {
   "cell_type": "code",
   "execution_count": 7,
   "id": "47f06dad",
   "metadata": {},
   "outputs": [
    {
     "data": {
      "text/plain": [
       "['apple', 'orange', 'banana']"
      ]
     },
     "execution_count": 7,
     "metadata": {},
     "output_type": "execute_result"
    }
   ],
   "source": [
    "list3"
   ]
  },
  {
   "cell_type": "code",
   "execution_count": 8,
   "id": "7cc17e62",
   "metadata": {},
   "outputs": [],
   "source": [
    "list4 = [1,2,3,4,5,6,7,4,3]"
   ]
  },
  {
   "cell_type": "code",
   "execution_count": 9,
   "id": "f15fe7d7",
   "metadata": {},
   "outputs": [
    {
     "data": {
      "text/plain": [
       "[1, 2, 3, 4, 5, 6, 7, 4, 3]"
      ]
     },
     "execution_count": 9,
     "metadata": {},
     "output_type": "execute_result"
    }
   ],
   "source": [
    "list4"
   ]
  },
  {
   "cell_type": "code",
   "execution_count": 10,
   "id": "ee8f39ce",
   "metadata": {},
   "outputs": [],
   "source": [
    "list5 = ['apple', 4, False]"
   ]
  },
  {
   "cell_type": "markdown",
   "id": "f903c2ae",
   "metadata": {},
   "source": [
    "### SET\n",
    "\n",
    "Sets are unordered collection of elements that are unique. i.e when a data is repeated more than once, it would be entered into the set once."
   ]
  },
  {
   "cell_type": "markdown",
   "id": "72c4c028",
   "metadata": {},
   "source": [
    "### EMPTY SET"
   ]
  },
  {
   "cell_type": "code",
   "execution_count": 11,
   "id": "c5747ec3",
   "metadata": {},
   "outputs": [],
   "source": [
    "set1 = set()\n",
    "set2 = {} #curly braces"
   ]
  },
  {
   "cell_type": "code",
   "execution_count": 12,
   "id": "4645154e",
   "metadata": {},
   "outputs": [
    {
     "data": {
      "text/plain": [
       "set"
      ]
     },
     "execution_count": 12,
     "metadata": {},
     "output_type": "execute_result"
    }
   ],
   "source": [
    "type(set1)"
   ]
  },
  {
   "cell_type": "code",
   "execution_count": 13,
   "id": "45c81d70",
   "metadata": {},
   "outputs": [
    {
     "data": {
      "text/plain": [
       "dict"
      ]
     },
     "execution_count": 13,
     "metadata": {},
     "output_type": "execute_result"
    }
   ],
   "source": [
    "type(set2)"
   ]
  },
  {
   "cell_type": "code",
   "execution_count": 14,
   "id": "4953dd85",
   "metadata": {},
   "outputs": [],
   "source": [
    "set3 = set([1,2,3,4,5,6,7,4,3])"
   ]
  },
  {
   "cell_type": "code",
   "execution_count": 15,
   "id": "e3867766",
   "metadata": {},
   "outputs": [
    {
     "data": {
      "text/plain": [
       "{1, 2, 3, 4, 5, 6, 7}"
      ]
     },
     "execution_count": 15,
     "metadata": {},
     "output_type": "execute_result"
    }
   ],
   "source": [
    "set3"
   ]
  },
  {
   "cell_type": "code",
   "execution_count": 16,
   "id": "694d0ef4",
   "metadata": {},
   "outputs": [],
   "source": [
    "set4 = {1,2,3,4,2,4,2,1}"
   ]
  },
  {
   "cell_type": "code",
   "execution_count": 17,
   "id": "1a194738",
   "metadata": {},
   "outputs": [
    {
     "data": {
      "text/plain": [
       "{1, 2, 3, 4}"
      ]
     },
     "execution_count": 17,
     "metadata": {},
     "output_type": "execute_result"
    }
   ],
   "source": [
    "set4"
   ]
  },
  {
   "cell_type": "code",
   "execution_count": 21,
   "id": "352ae978",
   "metadata": {},
   "outputs": [],
   "source": [
    "list4[1] = 0"
   ]
  },
  {
   "cell_type": "code",
   "execution_count": 22,
   "id": "802ddebf",
   "metadata": {},
   "outputs": [
    {
     "data": {
      "text/plain": [
       "[1, 0, 3, 4, 5, 6, 7, 4, 3]"
      ]
     },
     "execution_count": 22,
     "metadata": {},
     "output_type": "execute_result"
    }
   ],
   "source": [
    "list4"
   ]
  },
  {
   "cell_type": "markdown",
   "id": "2b67f4a5",
   "metadata": {},
   "source": [
    "### TUPLE\n",
    "Tuples are the same as list with the exception that the data is immutable(can not be changed)"
   ]
  },
  {
   "cell_type": "markdown",
   "id": "cf5bbd6d",
   "metadata": {},
   "source": [
    "#### EMPTY TUPLE\n",
    "tup1 = ()\n",
    "tup2 = tuple()"
   ]
  },
  {
   "cell_type": "code",
   "execution_count": 18,
   "id": "005ded59",
   "metadata": {},
   "outputs": [],
   "source": [
    "tup1 = ()\n",
    "tup2 = tuple()\n",
    "\n",
    "tup3 = (1,2,3)\n"
   ]
  },
  {
   "cell_type": "code",
   "execution_count": 19,
   "id": "f3dcc388",
   "metadata": {},
   "outputs": [
    {
     "data": {
      "text/plain": [
       "(1, 2, 3)"
      ]
     },
     "execution_count": 19,
     "metadata": {},
     "output_type": "execute_result"
    }
   ],
   "source": [
    "tup3"
   ]
  },
  {
   "cell_type": "code",
   "execution_count": 23,
   "id": "2ecd8a79",
   "metadata": {},
   "outputs": [
    {
     "ename": "TypeError",
     "evalue": "'tuple' object does not support item assignment",
     "output_type": "error",
     "traceback": [
      "\u001b[1;31m---------------------------------------------------------------------------\u001b[0m",
      "\u001b[1;31mTypeError\u001b[0m                                 Traceback (most recent call last)",
      "\u001b[1;32m~\\AppData\\Local\\Temp\\ipykernel_2844\\1895558753.py\u001b[0m in \u001b[0;36m<module>\u001b[1;34m\u001b[0m\n\u001b[1;32m----> 1\u001b[1;33m \u001b[0mtup3\u001b[0m\u001b[1;33m[\u001b[0m\u001b[1;36m1\u001b[0m\u001b[1;33m]\u001b[0m \u001b[1;33m=\u001b[0m \u001b[1;36m0\u001b[0m\u001b[1;33m\u001b[0m\u001b[1;33m\u001b[0m\u001b[0m\n\u001b[0m",
      "\u001b[1;31mTypeError\u001b[0m: 'tuple' object does not support item assignment"
     ]
    }
   ],
   "source": [
    "tup3[1] = 0"
   ]
  },
  {
   "cell_type": "markdown",
   "id": "e4eb3a0f",
   "metadata": {},
   "source": [
    "### DICTIONARY\n",
    "\n",
    "Dictionaries are used to store key-pairs"
   ]
  },
  {
   "cell_type": "code",
   "execution_count": 24,
   "id": "218f7897",
   "metadata": {},
   "outputs": [],
   "source": [
    "#empty dictionary\n",
    "dict1 = {}\n",
    "\n",
    "dict2 = dict()"
   ]
  },
  {
   "cell_type": "code",
   "execution_count": 25,
   "id": "216d8746",
   "metadata": {},
   "outputs": [],
   "source": [
    "dict3 = {'name': 'Rukayat', 'location': 'Earth'}"
   ]
  },
  {
   "cell_type": "code",
   "execution_count": 26,
   "id": "8cc5c682",
   "metadata": {},
   "outputs": [
    {
     "data": {
      "text/plain": [
       "{'name': 'Rukayat', 'location': 'Earth'}"
      ]
     },
     "execution_count": 26,
     "metadata": {},
     "output_type": "execute_result"
    }
   ],
   "source": [
    "dict3"
   ]
  },
  {
   "cell_type": "code",
   "execution_count": 27,
   "id": "639f6c1d",
   "metadata": {},
   "outputs": [
    {
     "data": {
      "text/plain": [
       "dict_keys(['name', 'location'])"
      ]
     },
     "execution_count": 27,
     "metadata": {},
     "output_type": "execute_result"
    }
   ],
   "source": [
    "dict3.keys()"
   ]
  },
  {
   "cell_type": "code",
   "execution_count": 28,
   "id": "88865177",
   "metadata": {},
   "outputs": [
    {
     "data": {
      "text/plain": [
       "dict_values(['Rukayat', 'Earth'])"
      ]
     },
     "execution_count": 28,
     "metadata": {},
     "output_type": "execute_result"
    }
   ],
   "source": [
    "dict3.values()"
   ]
  },
  {
   "cell_type": "markdown",
   "id": "dee68ca6",
   "metadata": {},
   "source": [
    "### FROZENSET\n",
    "Frozenset creates an immutable set object from an iterable\n"
   ]
  },
  {
   "cell_type": "code",
   "execution_count": 29,
   "id": "599f7645",
   "metadata": {},
   "outputs": [],
   "source": [
    "#empty frozenset\n",
    "fr1 = frozenset()"
   ]
  },
  {
   "cell_type": "code",
   "execution_count": 30,
   "id": "089b3cff",
   "metadata": {},
   "outputs": [
    {
     "data": {
      "text/plain": [
       "frozenset"
      ]
     },
     "execution_count": 30,
     "metadata": {},
     "output_type": "execute_result"
    }
   ],
   "source": [
    "type(fr1)"
   ]
  },
  {
   "cell_type": "code",
   "execution_count": 32,
   "id": "315b557d",
   "metadata": {},
   "outputs": [],
   "source": [
    "fr1 = frozenset([1,2,3])"
   ]
  },
  {
   "cell_type": "code",
   "execution_count": 33,
   "id": "03a95bcc",
   "metadata": {},
   "outputs": [
    {
     "data": {
      "text/plain": [
       "frozenset({1, 2, 3})"
      ]
     },
     "execution_count": 33,
     "metadata": {},
     "output_type": "execute_result"
    }
   ],
   "source": [
    "fr1"
   ]
  },
  {
   "cell_type": "markdown",
   "id": "11ee601c",
   "metadata": {},
   "source": [
    "### LOOP\n",
    "\n",
    "\n",
    "1. FOR LOOP\n",
    "2. WHILE LOOP"
   ]
  },
  {
   "cell_type": "markdown",
   "id": "2cbb1ae8",
   "metadata": {},
   "source": [
    "## FOR LOOP"
   ]
  },
  {
   "cell_type": "code",
   "execution_count": 42,
   "id": "1331c479",
   "metadata": {},
   "outputs": [
    {
     "name": "stdout",
     "output_type": "stream",
     "text": [
      "2\n",
      "4\n",
      "6\n",
      "4\n"
     ]
    }
   ],
   "source": [
    "list4 = [1,2,3,4,5,6,7,4,3]\n",
    "\n",
    "for num in list4:\n",
    "    if num % 2 == 0:\n",
    "        print(num)"
   ]
  },
  {
   "cell_type": "code",
   "execution_count": null,
   "id": "69f92567",
   "metadata": {},
   "outputs": [],
   "source": []
  },
  {
   "cell_type": "code",
   "execution_count": 47,
   "id": "70b2b77b",
   "metadata": {},
   "outputs": [
    {
     "name": "stdout",
     "output_type": "stream",
     "text": [
      "0\n",
      "1\n",
      "2\n",
      "3\n",
      "4\n",
      "5\n",
      "6\n",
      "7\n",
      "8\n",
      "9\n"
     ]
    }
   ],
   "source": [
    "###WHILE LOOP\n",
    "counter = 0\n",
    "\n",
    "while counter < 10:\n",
    "    print(counter)\n",
    "    counter = counter + 1 #increase counter by 1 // counter += 1\n",
    "    "
   ]
  },
  {
   "cell_type": "code",
   "execution_count": null,
   "id": "c3d9adb1",
   "metadata": {},
   "outputs": [],
   "source": []
  }
 ],
 "metadata": {
  "kernelspec": {
   "display_name": "Python 3 (ipykernel)",
   "language": "python",
   "name": "python3"
  },
  "language_info": {
   "codemirror_mode": {
    "name": "ipython",
    "version": 3
   },
   "file_extension": ".py",
   "mimetype": "text/x-python",
   "name": "python",
   "nbconvert_exporter": "python",
   "pygments_lexer": "ipython3",
   "version": "3.9.13"
  }
 },
 "nbformat": 4,
 "nbformat_minor": 5
}
